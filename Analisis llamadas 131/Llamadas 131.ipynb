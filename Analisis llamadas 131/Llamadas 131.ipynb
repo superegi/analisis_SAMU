{
 "cells": [
  {
   "cell_type": "markdown",
   "metadata": {},
   "source": [
    "Análisis de datos SAMU: Llamadas 131\n",
    "==================="
   ]
  },
  {
   "cell_type": "code",
   "execution_count": 2,
   "metadata": {},
   "outputs": [],
   "source": [
    "import pandas as pd\n",
    "import numpy as np\n",
    "import matplotlib.pyplot as plt\n",
    "\n",
    "from datetime import date, datetime, time, timedelta\n",
    "from babel.dates import format_date, format_datetime, format_time, format_timedelta, Locale\n",
    "import locale                                    # para tratar de poner espanol\n",
    "#locale = Locale('es', 'CL')\n",
    "#locale.setlocale(locale.LC_ALL,'es_ES.UTF-8')  \n",
    "\n",
    "import os\n",
    "import runpy\n",
    "from pyexcel_ods import get_data\n",
    "\n",
    "from IPython.core.interactiveshell import InteractiveShell\n",
    "InteractiveShell.ast_node_interactivity = \"all\"\n",
    "%matplotlib inline\n",
    "\n",
    "#importo sólo algunas de mis funciones, dejo otras excluídas...."
   ]
  },
  {
   "cell_type": "markdown",
   "metadata": {},
   "source": [
    "cargo algunos scripts que me suelen servir para análisis"
   ]
  },
  {
   "cell_type": "code",
   "execution_count": 4,
   "metadata": {
    "scrolled": true
   },
   "outputs": [
    {
     "data": {
      "text/plain": [
       "['/home/egidio/Dropbox/Compucosas/programas py/percentiles.py',\n",
       " '/home/egidio/Dropbox/Compucosas/programas py/características_operativas_de_test.py',\n",
       " '/home/egidio/Dropbox/Compucosas/programas py/lector_ODF.py',\n",
       " '/home/egidio/Dropbox/Compucosas/programas py/como importar',\n",
       " '/home/egidio/Dropbox/Compucosas/programas py/tabala_frecuencias.py',\n",
       " '/home/egidio/Dropbox/Compucosas/programas py/descripcion_univariada.py',\n",
       " '/home/egidio/Dropbox/Compucosas/programas py/__pycache__/características_operativas_de_test.cpython-36.pyc',\n",
       " '/home/egidio/Dropbox/Compucosas/programas py/__pycache__/tabala_frecuencias.cpython-36.pyc',\n",
       " '/home/egidio/Dropbox/Compucosas/programas py/__pycache__/lector_ODF.cpython-36.pyc',\n",
       " '/home/egidio/Dropbox/Compucosas/programas py/__pycache__/percentiles.cpython-36.pyc',\n",
       " '/home/egidio/Dropbox/Compucosas/programas py/__pycache__/funciones_locales.cpython-36.pyc',\n",
       " '/home/egidio/Dropbox/Compucosas/programas py/__pycache__/descripcion_univariada.cpython-36.pyc']"
      ]
     },
     "execution_count": 4,
     "metadata": {},
     "output_type": "execute_result"
    }
   ],
   "source": [
    "#listo los archivos\n",
    "scripts = []\n",
    "for dirname, dirnames, filenames in os.walk('/home/egidio/Dropbox/Compucosas/programas py'):\n",
    "    for filename in filenames:\n",
    "        scripts.append(os.path.join(dirname, filename))\n",
    "\n",
    "scripts\n",
    "\n",
    "# los cargo\n",
    "for script in scripts:\n",
    "    if script[-3:] == '.py':\n",
    "        exec(open(str(script)).read())"
   ]
  },
  {
   "cell_type": "markdown",
   "metadata": {},
   "source": [
    "# Recojo la BD"
   ]
  },
  {
   "cell_type": "code",
   "execution_count": 8,
   "metadata": {},
   "outputs": [
    {
     "data": {
      "text/html": [
       "<div>\n",
       "<style scoped>\n",
       "    .dataframe tbody tr th:only-of-type {\n",
       "        vertical-align: middle;\n",
       "    }\n",
       "\n",
       "    .dataframe tbody tr th {\n",
       "        vertical-align: top;\n",
       "    }\n",
       "\n",
       "    .dataframe thead th {\n",
       "        text-align: right;\n",
       "    }\n",
       "</style>\n",
       "<table border=\"1\" class=\"dataframe\">\n",
       "  <thead>\n",
       "    <tr style=\"text-align: right;\">\n",
       "      <th></th>\n",
       "      <th>Fecha</th>\n",
       "      <th>Tipo_llamada</th>\n",
       "      <th>Origen_tipo</th>\n",
       "      <th>Destino_tipo</th>\n",
       "      <th>Origen_n</th>\n",
       "      <th>Destino_n</th>\n",
       "      <th>Destino_nSIP</th>\n",
       "      <th>Estado</th>\n",
       "      <th>Duracion</th>\n",
       "      <th>Cobro</th>\n",
       "      <th>Fin</th>\n",
       "      <th>Trapaso</th>\n",
       "    </tr>\n",
       "  </thead>\n",
       "  <tbody>\n",
       "    <tr>\n",
       "      <th>0</th>\n",
       "      <td>2017-02-22 20:54:07</td>\n",
       "      <td>Desde SAMU</td>\n",
       "      <td>SIP</td>\n",
       "      <td>Trunk</td>\n",
       "      <td>204.0</td>\n",
       "      <td>9.904491e+08</td>\n",
       "      <td>NaN</td>\n",
       "      <td>Contestada</td>\n",
       "      <td>12</td>\n",
       "      <td>8</td>\n",
       "      <td>2017-02-22 20:54:19</td>\n",
       "      <td>No</td>\n",
       "    </tr>\n",
       "    <tr>\n",
       "      <th>1</th>\n",
       "      <td>2017-02-22 20:54:30</td>\n",
       "      <td>Desde SAMU</td>\n",
       "      <td>SIP</td>\n",
       "      <td>Trunk</td>\n",
       "      <td>204.0</td>\n",
       "      <td>9.992239e+09</td>\n",
       "      <td>NaN</td>\n",
       "      <td>Contestada</td>\n",
       "      <td>20</td>\n",
       "      <td>16</td>\n",
       "      <td>2017-02-22 20:54:50</td>\n",
       "      <td>No</td>\n",
       "    </tr>\n",
       "    <tr>\n",
       "      <th>2</th>\n",
       "      <td>2017-02-22 21:21:17</td>\n",
       "      <td>Hacia SAMU</td>\n",
       "      <td>Trunk</td>\n",
       "      <td>SIP</td>\n",
       "      <td>NaN</td>\n",
       "      <td>1.310000e+02</td>\n",
       "      <td>200.0</td>\n",
       "      <td>Contestada</td>\n",
       "      <td>24</td>\n",
       "      <td>14</td>\n",
       "      <td>2017-02-22 21:21:41</td>\n",
       "      <td>No</td>\n",
       "    </tr>\n",
       "    <tr>\n",
       "      <th>3</th>\n",
       "      <td>2017-02-22 21:23:01</td>\n",
       "      <td>Hacia SAMU</td>\n",
       "      <td>Trunk</td>\n",
       "      <td>SIP</td>\n",
       "      <td>NaN</td>\n",
       "      <td>1.310000e+02</td>\n",
       "      <td>203.0</td>\n",
       "      <td>Contestada</td>\n",
       "      <td>30</td>\n",
       "      <td>20</td>\n",
       "      <td>2017-02-22 21:23:31</td>\n",
       "      <td>No</td>\n",
       "    </tr>\n",
       "    <tr>\n",
       "      <th>4</th>\n",
       "      <td>2017-02-22 21:24:47</td>\n",
       "      <td>Hacia SAMU</td>\n",
       "      <td>Trunk</td>\n",
       "      <td>SIP</td>\n",
       "      <td>NaN</td>\n",
       "      <td>1.310000e+02</td>\n",
       "      <td>200.0</td>\n",
       "      <td>Contestada</td>\n",
       "      <td>63</td>\n",
       "      <td>53</td>\n",
       "      <td>2017-02-22 21:25:50</td>\n",
       "      <td>No</td>\n",
       "    </tr>\n",
       "  </tbody>\n",
       "</table>\n",
       "</div>"
      ],
      "text/plain": [
       "                Fecha Tipo_llamada Origen_tipo Destino_tipo  Origen_n  \\\n",
       "0 2017-02-22 20:54:07   Desde SAMU         SIP        Trunk     204.0   \n",
       "1 2017-02-22 20:54:30   Desde SAMU         SIP        Trunk     204.0   \n",
       "2 2017-02-22 21:21:17   Hacia SAMU       Trunk          SIP       NaN   \n",
       "3 2017-02-22 21:23:01   Hacia SAMU       Trunk          SIP       NaN   \n",
       "4 2017-02-22 21:24:47   Hacia SAMU       Trunk          SIP       NaN   \n",
       "\n",
       "      Destino_n  Destino_nSIP      Estado  Duracion  Cobro  \\\n",
       "0  9.904491e+08           NaN  Contestada        12      8   \n",
       "1  9.992239e+09           NaN  Contestada        20     16   \n",
       "2  1.310000e+02         200.0  Contestada        24     14   \n",
       "3  1.310000e+02         203.0  Contestada        30     20   \n",
       "4  1.310000e+02         200.0  Contestada        63     53   \n",
       "\n",
       "                  Fin Trapaso  \n",
       "0 2017-02-22 20:54:19      No  \n",
       "1 2017-02-22 20:54:50      No  \n",
       "2 2017-02-22 21:21:41      No  \n",
       "3 2017-02-22 21:23:31      No  \n",
       "4 2017-02-22 21:25:50      No  "
      ]
     },
     "execution_count": 8,
     "metadata": {},
     "output_type": "execute_result"
    }
   ],
   "source": [
    "BD = pd.read_pickle('./llamadas_contraspaso.pkl')\n",
    "BD.head()"
   ]
  },
  {
   "cell_type": "code",
   "execution_count": 15,
   "metadata": {
    "scrolled": true
   },
   "outputs": [
    {
     "name": "stdout",
     "output_type": "stream",
     "text": [
      "<class 'pandas.core.frame.DataFrame'>\n",
      "RangeIndex: 1127721 entries, 0 to 1127720\n",
      "Data columns (total 12 columns):\n",
      " #   Column        Non-Null Count    Dtype         \n",
      "---  ------        --------------    -----         \n",
      " 0   Fecha         1127721 non-null  datetime64[ns]\n",
      " 1   Tipo_llamada  1014913 non-null  category      \n",
      " 2   Origen_tipo   1127240 non-null  category      \n",
      " 3   Destino_tipo  1033158 non-null  category      \n",
      " 4   Origen_n      1075784 non-null  float64       \n",
      " 5   Destino_n     1067257 non-null  float64       \n",
      " 6   Destino_nSIP  793090 non-null   float64       \n",
      " 7   Estado        1127721 non-null  category      \n",
      " 8   Duracion      1127721 non-null  int64         \n",
      " 9   Cobro         1127721 non-null  int64         \n",
      " 10  Fin           1127721 non-null  datetime64[ns]\n",
      " 11  Trapaso       1127721 non-null  object        \n",
      "dtypes: category(4), datetime64[ns](2), float64(3), int64(2), object(1)\n",
      "memory usage: 73.1+ MB\n"
     ]
    }
   ],
   "source": [
    "BD.info()\n",
    "# print('Descrip inicial')\n",
    "# for entrada in BD.columns:\n",
    "#     print(entrada)\n",
    "#     BD[entrada].head()\n",
    "#     tab_frec(BD[entrada]).head()\n",
    "#     BD[entrada].describe()\n",
    "#     print('------------------------------')    "
   ]
  },
  {
   "cell_type": "markdown",
   "metadata": {},
   "source": [
    "# Rápido análisis de un mes para saber a que nos enfretamos"
   ]
  },
  {
   "cell_type": "code",
   "execution_count": 21,
   "metadata": {},
   "outputs": [
    {
     "data": {
      "text/plain": [
       "count                   18270\n",
       "unique                  18140\n",
       "top       2020-05-15 20:43:01\n",
       "freq                        3\n",
       "first     2020-05-01 00:00:19\n",
       "last      2020-05-23 23:12:29\n",
       "Name: Fecha, dtype: object"
      ]
     },
     "execution_count": 21,
     "metadata": {},
     "output_type": "execute_result"
    },
    {
     "data": {
      "text/html": [
       "<div>\n",
       "<style scoped>\n",
       "    .dataframe tbody tr th:only-of-type {\n",
       "        vertical-align: middle;\n",
       "    }\n",
       "\n",
       "    .dataframe tbody tr th {\n",
       "        vertical-align: top;\n",
       "    }\n",
       "\n",
       "    .dataframe thead th {\n",
       "        text-align: right;\n",
       "    }\n",
       "</style>\n",
       "<table border=\"1\" class=\"dataframe\">\n",
       "  <thead>\n",
       "    <tr style=\"text-align: right;\">\n",
       "      <th></th>\n",
       "      <th>Fecha</th>\n",
       "      <th>Tipo_llamada</th>\n",
       "      <th>Origen_tipo</th>\n",
       "      <th>Destino_tipo</th>\n",
       "      <th>Origen_n</th>\n",
       "      <th>Destino_n</th>\n",
       "      <th>Destino_nSIP</th>\n",
       "      <th>Estado</th>\n",
       "      <th>Duracion</th>\n",
       "      <th>Cobro</th>\n",
       "      <th>Fin</th>\n",
       "      <th>Trapaso</th>\n",
       "    </tr>\n",
       "  </thead>\n",
       "  <tbody>\n",
       "    <tr>\n",
       "      <th>1109451</th>\n",
       "      <td>2020-05-01 00:00:19</td>\n",
       "      <td>Hacia SAMU</td>\n",
       "      <td>Trunk</td>\n",
       "      <td>SIP</td>\n",
       "      <td>949799508.0</td>\n",
       "      <td>131.0</td>\n",
       "      <td>204.0</td>\n",
       "      <td>Contestada</td>\n",
       "      <td>567</td>\n",
       "      <td>566</td>\n",
       "      <td>2020-05-01 00:09:46</td>\n",
       "      <td>No</td>\n",
       "    </tr>\n",
       "    <tr>\n",
       "      <th>1109452</th>\n",
       "      <td>2020-05-01 00:03:26</td>\n",
       "      <td>Entre SAMU</td>\n",
       "      <td>SIP</td>\n",
       "      <td>SIP</td>\n",
       "      <td>206.0</td>\n",
       "      <td>212.0</td>\n",
       "      <td>212.0</td>\n",
       "      <td>Contestada</td>\n",
       "      <td>112</td>\n",
       "      <td>101</td>\n",
       "      <td>2020-05-01 00:05:18</td>\n",
       "      <td>Si</td>\n",
       "    </tr>\n",
       "    <tr>\n",
       "      <th>1109453</th>\n",
       "      <td>2020-05-01 00:04:41</td>\n",
       "      <td>Hacia SAMU</td>\n",
       "      <td>Trunk</td>\n",
       "      <td>SIP</td>\n",
       "      <td>950740068.0</td>\n",
       "      <td>131.0</td>\n",
       "      <td>200.0</td>\n",
       "      <td>Contestada</td>\n",
       "      <td>444</td>\n",
       "      <td>443</td>\n",
       "      <td>2020-05-01 00:12:05</td>\n",
       "      <td>No</td>\n",
       "    </tr>\n",
       "    <tr>\n",
       "      <th>1109454</th>\n",
       "      <td>2020-05-01 00:08:59</td>\n",
       "      <td>Entre SAMU</td>\n",
       "      <td>SIP</td>\n",
       "      <td>SIP</td>\n",
       "      <td>204.0</td>\n",
       "      <td>205.0</td>\n",
       "      <td>205.0</td>\n",
       "      <td>Contestada</td>\n",
       "      <td>152</td>\n",
       "      <td>119</td>\n",
       "      <td>2020-05-01 00:11:31</td>\n",
       "      <td>Si</td>\n",
       "    </tr>\n",
       "    <tr>\n",
       "      <th>1109455</th>\n",
       "      <td>2020-05-01 00:11:47</td>\n",
       "      <td>Entre SAMU</td>\n",
       "      <td>SIP</td>\n",
       "      <td>SIP</td>\n",
       "      <td>200.0</td>\n",
       "      <td>205.0</td>\n",
       "      <td>205.0</td>\n",
       "      <td>Contestada</td>\n",
       "      <td>140</td>\n",
       "      <td>138</td>\n",
       "      <td>2020-05-01 00:14:07</td>\n",
       "      <td>Si</td>\n",
       "    </tr>\n",
       "  </tbody>\n",
       "</table>\n",
       "</div>"
      ],
      "text/plain": [
       "                      Fecha Tipo_llamada Origen_tipo Destino_tipo  \\\n",
       "1109451 2020-05-01 00:00:19   Hacia SAMU       Trunk          SIP   \n",
       "1109452 2020-05-01 00:03:26   Entre SAMU         SIP          SIP   \n",
       "1109453 2020-05-01 00:04:41   Hacia SAMU       Trunk          SIP   \n",
       "1109454 2020-05-01 00:08:59   Entre SAMU         SIP          SIP   \n",
       "1109455 2020-05-01 00:11:47   Entre SAMU         SIP          SIP   \n",
       "\n",
       "            Origen_n  Destino_n  Destino_nSIP      Estado  Duracion  Cobro  \\\n",
       "1109451  949799508.0      131.0         204.0  Contestada       567    566   \n",
       "1109452        206.0      212.0         212.0  Contestada       112    101   \n",
       "1109453  950740068.0      131.0         200.0  Contestada       444    443   \n",
       "1109454        204.0      205.0         205.0  Contestada       152    119   \n",
       "1109455        200.0      205.0         205.0  Contestada       140    138   \n",
       "\n",
       "                        Fin Trapaso  \n",
       "1109451 2020-05-01 00:09:46      No  \n",
       "1109452 2020-05-01 00:05:18      Si  \n",
       "1109453 2020-05-01 00:12:05      No  \n",
       "1109454 2020-05-01 00:11:31      Si  \n",
       "1109455 2020-05-01 00:14:07      Si  "
      ]
     },
     "execution_count": 21,
     "metadata": {},
     "output_type": "execute_result"
    }
   ],
   "source": [
    "db1 = BD.loc[BD.Fecha > pd.to_datetime('2020-05-01')]\n",
    "db1.Fecha.describe()\n",
    "db1.head()"
   ]
  },
  {
   "cell_type": "markdown",
   "metadata": {},
   "source": [
    "Descripicón de el periodo de estudio"
   ]
  },
  {
   "cell_type": "code",
   "execution_count": null,
   "metadata": {},
   "outputs": [],
   "source": []
  },
  {
   "cell_type": "code",
   "execution_count": null,
   "metadata": {},
   "outputs": [],
   "source": []
  },
  {
   "cell_type": "code",
   "execution_count": null,
   "metadata": {},
   "outputs": [],
   "source": []
  },
  {
   "cell_type": "code",
   "execution_count": null,
   "metadata": {},
   "outputs": [],
   "source": []
  },
  {
   "cell_type": "code",
   "execution_count": null,
   "metadata": {},
   "outputs": [],
   "source": []
  },
  {
   "cell_type": "code",
   "execution_count": null,
   "metadata": {},
   "outputs": [],
   "source": []
  },
  {
   "cell_type": "code",
   "execution_count": null,
   "metadata": {},
   "outputs": [],
   "source": []
  },
  {
   "cell_type": "code",
   "execution_count": null,
   "metadata": {},
   "outputs": [],
   "source": []
  },
  {
   "cell_type": "code",
   "execution_count": null,
   "metadata": {},
   "outputs": [],
   "source": []
  },
  {
   "cell_type": "code",
   "execution_count": null,
   "metadata": {},
   "outputs": [],
   "source": []
  },
  {
   "cell_type": "code",
   "execution_count": null,
   "metadata": {},
   "outputs": [],
   "source": []
  },
  {
   "cell_type": "code",
   "execution_count": null,
   "metadata": {},
   "outputs": [],
   "source": []
  },
  {
   "cell_type": "code",
   "execution_count": null,
   "metadata": {},
   "outputs": [],
   "source": []
  },
  {
   "cell_type": "code",
   "execution_count": null,
   "metadata": {},
   "outputs": [],
   "source": []
  },
  {
   "cell_type": "code",
   "execution_count": null,
   "metadata": {},
   "outputs": [],
   "source": []
  },
  {
   "cell_type": "code",
   "execution_count": null,
   "metadata": {},
   "outputs": [],
   "source": []
  },
  {
   "cell_type": "code",
   "execution_count": null,
   "metadata": {},
   "outputs": [],
   "source": []
  },
  {
   "cell_type": "code",
   "execution_count": null,
   "metadata": {},
   "outputs": [],
   "source": []
  },
  {
   "cell_type": "code",
   "execution_count": null,
   "metadata": {},
   "outputs": [],
   "source": []
  },
  {
   "cell_type": "code",
   "execution_count": null,
   "metadata": {},
   "outputs": [],
   "source": []
  },
  {
   "cell_type": "code",
   "execution_count": null,
   "metadata": {},
   "outputs": [],
   "source": []
  },
  {
   "cell_type": "code",
   "execution_count": null,
   "metadata": {},
   "outputs": [],
   "source": []
  }
 ],
 "metadata": {
  "celltoolbar": "Raw Cell Format",
  "kernelspec": {
   "display_name": "Python 3",
   "language": "python",
   "name": "python3"
  },
  "language_info": {
   "codemirror_mode": {
    "name": "ipython",
    "version": 3
   },
   "file_extension": ".py",
   "mimetype": "text/x-python",
   "name": "python",
   "nbconvert_exporter": "python",
   "pygments_lexer": "ipython3",
   "version": "3.7.3"
  }
 },
 "nbformat": 4,
 "nbformat_minor": 4
}
