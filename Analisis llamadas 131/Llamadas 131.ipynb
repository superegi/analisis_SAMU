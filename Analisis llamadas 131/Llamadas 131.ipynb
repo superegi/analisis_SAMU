{
 "cells": [
  {
   "cell_type": "markdown",
   "metadata": {},
   "source": [
    "Análisis de datos SAMU: Llamadas 131\n",
    "==================="
   ]
  },
  {
   "cell_type": "code",
   "execution_count": 1,
   "metadata": {},
   "outputs": [],
   "source": [
    "import pandas as pd\n",
    "import numpy as np\n",
    "import matplotlib.pyplot as plt\n",
    "\n",
    "from datetime import date, datetime, time, timedelta\n",
    "from babel.dates import format_date, format_datetime, format_time, format_timedelta, Locale\n",
    "import locale                                    # para tratar de poner espanol\n",
    "#locale = Locale('es', 'CL')\n",
    "#locale.setlocale(locale.LC_ALL,'es_ES.UTF-8')  \n",
    "\n",
    "import os\n",
    "import runpy\n",
    "from pyexcel_ods import get_data\n",
    "\n",
    "from IPython.core.interactiveshell import InteractiveShell\n",
    "InteractiveShell.ast_node_interactivity = \"all\"\n",
    "%matplotlib inline\n",
    "\n",
    "#importo sólo algunas de mis funciones, dejo otras excluídas...."
   ]
  },
  {
   "cell_type": "markdown",
   "metadata": {},
   "source": [
    "cargo algunos scripts que me suelen servir para análisis"
   ]
  },
  {
   "cell_type": "code",
   "execution_count": 2,
   "metadata": {
    "scrolled": true
   },
   "outputs": [
    {
     "data": {
      "text/plain": [
       "['/home/egidio/Dropbox/Compucosas/programas py/percentiles.py',\n",
       " '/home/egidio/Dropbox/Compucosas/programas py/características_operativas_de_test.py',\n",
       " '/home/egidio/Dropbox/Compucosas/programas py/lector_ODF.py',\n",
       " '/home/egidio/Dropbox/Compucosas/programas py/como importar',\n",
       " '/home/egidio/Dropbox/Compucosas/programas py/tabala_frecuencias.py',\n",
       " '/home/egidio/Dropbox/Compucosas/programas py/descripcion_univariada.py',\n",
       " '/home/egidio/Dropbox/Compucosas/programas py/__pycache__/características_operativas_de_test.cpython-36.pyc',\n",
       " '/home/egidio/Dropbox/Compucosas/programas py/__pycache__/tabala_frecuencias.cpython-36.pyc',\n",
       " '/home/egidio/Dropbox/Compucosas/programas py/__pycache__/lector_ODF.cpython-36.pyc',\n",
       " '/home/egidio/Dropbox/Compucosas/programas py/__pycache__/percentiles.cpython-36.pyc',\n",
       " '/home/egidio/Dropbox/Compucosas/programas py/__pycache__/funciones_locales.cpython-36.pyc',\n",
       " '/home/egidio/Dropbox/Compucosas/programas py/__pycache__/descripcion_univariada.cpython-36.pyc']"
      ]
     },
     "execution_count": 2,
     "metadata": {},
     "output_type": "execute_result"
    }
   ],
   "source": [
    "#listo los archivos\n",
    "scripts = []\n",
    "for dirname, dirnames, filenames in os.walk('/home/egidio/Dropbox/Compucosas/programas py'):\n",
    "    for filename in filenames:\n",
    "        scripts.append(os.path.join(dirname, filename))\n",
    "\n",
    "scripts\n",
    "\n",
    "# los cargo\n",
    "for script in scripts:\n",
    "    if script[-3:] == '.py':\n",
    "        exec(open(str(script)).read())"
   ]
  },
  {
   "cell_type": "markdown",
   "metadata": {},
   "source": [
    "# Recojo la BD"
   ]
  },
  {
   "cell_type": "code",
   "execution_count": 3,
   "metadata": {},
   "outputs": [
    {
     "data": {
      "text/html": [
       "<div>\n",
       "<style scoped>\n",
       "    .dataframe tbody tr th:only-of-type {\n",
       "        vertical-align: middle;\n",
       "    }\n",
       "\n",
       "    .dataframe tbody tr th {\n",
       "        vertical-align: top;\n",
       "    }\n",
       "\n",
       "    .dataframe thead th {\n",
       "        text-align: right;\n",
       "    }\n",
       "</style>\n",
       "<table border=\"1\" class=\"dataframe\">\n",
       "  <thead>\n",
       "    <tr style=\"text-align: right;\">\n",
       "      <th></th>\n",
       "      <th>Fecha</th>\n",
       "      <th>Tipo_llamada</th>\n",
       "      <th>Origen_tipo</th>\n",
       "      <th>Destino_tipo</th>\n",
       "      <th>Origen_n</th>\n",
       "      <th>Destino_n</th>\n",
       "      <th>Destino_nSIP</th>\n",
       "      <th>Estado</th>\n",
       "      <th>Duracion</th>\n",
       "      <th>Cobro</th>\n",
       "      <th>Fin</th>\n",
       "      <th>Trapaso</th>\n",
       "    </tr>\n",
       "  </thead>\n",
       "  <tbody>\n",
       "    <tr>\n",
       "      <th>0</th>\n",
       "      <td>2017-02-22 20:54:07</td>\n",
       "      <td>Desde SAMU</td>\n",
       "      <td>SIP</td>\n",
       "      <td>Trunk</td>\n",
       "      <td>204.0</td>\n",
       "      <td>9.904491e+08</td>\n",
       "      <td>NaN</td>\n",
       "      <td>Contestada</td>\n",
       "      <td>12</td>\n",
       "      <td>8</td>\n",
       "      <td>2017-02-22 20:54:19</td>\n",
       "      <td>No</td>\n",
       "    </tr>\n",
       "    <tr>\n",
       "      <th>1</th>\n",
       "      <td>2017-02-22 20:54:30</td>\n",
       "      <td>Desde SAMU</td>\n",
       "      <td>SIP</td>\n",
       "      <td>Trunk</td>\n",
       "      <td>204.0</td>\n",
       "      <td>9.992239e+09</td>\n",
       "      <td>NaN</td>\n",
       "      <td>Contestada</td>\n",
       "      <td>20</td>\n",
       "      <td>16</td>\n",
       "      <td>2017-02-22 20:54:50</td>\n",
       "      <td>No</td>\n",
       "    </tr>\n",
       "  </tbody>\n",
       "</table>\n",
       "</div>"
      ],
      "text/plain": [
       "                Fecha Tipo_llamada Origen_tipo Destino_tipo  Origen_n  \\\n",
       "0 2017-02-22 20:54:07   Desde SAMU         SIP        Trunk     204.0   \n",
       "1 2017-02-22 20:54:30   Desde SAMU         SIP        Trunk     204.0   \n",
       "\n",
       "      Destino_n  Destino_nSIP      Estado  Duracion  Cobro  \\\n",
       "0  9.904491e+08           NaN  Contestada        12      8   \n",
       "1  9.992239e+09           NaN  Contestada        20     16   \n",
       "\n",
       "                  Fin Trapaso  \n",
       "0 2017-02-22 20:54:19      No  \n",
       "1 2017-02-22 20:54:50      No  "
      ]
     },
     "execution_count": 3,
     "metadata": {},
     "output_type": "execute_result"
    }
   ],
   "source": [
    "BD = pd.read_pickle('./llamadas_contraspaso.pkl')\n",
    "BD.head(2)"
   ]
  },
  {
   "cell_type": "code",
   "execution_count": 4,
   "metadata": {
    "scrolled": true
   },
   "outputs": [
    {
     "name": "stdout",
     "output_type": "stream",
     "text": [
      "<class 'pandas.core.frame.DataFrame'>\n",
      "RangeIndex: 1127721 entries, 0 to 1127720\n",
      "Data columns (total 12 columns):\n",
      " #   Column        Non-Null Count    Dtype         \n",
      "---  ------        --------------    -----         \n",
      " 0   Fecha         1127721 non-null  datetime64[ns]\n",
      " 1   Tipo_llamada  1014913 non-null  category      \n",
      " 2   Origen_tipo   1127240 non-null  category      \n",
      " 3   Destino_tipo  1033158 non-null  category      \n",
      " 4   Origen_n      1075784 non-null  float64       \n",
      " 5   Destino_n     1067257 non-null  float64       \n",
      " 6   Destino_nSIP  793090 non-null   float64       \n",
      " 7   Estado        1127721 non-null  category      \n",
      " 8   Duracion      1127721 non-null  int64         \n",
      " 9   Cobro         1127721 non-null  int64         \n",
      " 10  Fin           1127721 non-null  datetime64[ns]\n",
      " 11  Trapaso       1127721 non-null  object        \n",
      "dtypes: category(4), datetime64[ns](2), float64(3), int64(2), object(1)\n",
      "memory usage: 73.1+ MB\n"
     ]
    }
   ],
   "source": [
    "BD.info()"
   ]
  },
  {
   "cell_type": "markdown",
   "metadata": {},
   "source": [
    "# Rápido análisis de un mes para saber a que nos enfretamos"
   ]
  },
  {
   "cell_type": "code",
   "execution_count": 5,
   "metadata": {},
   "outputs": [
    {
     "data": {
      "text/plain": [
       "count                   18270\n",
       "unique                  18140\n",
       "top       2020-05-15 20:43:01\n",
       "freq                        3\n",
       "first     2020-05-01 00:00:19\n",
       "last      2020-05-23 23:12:29\n",
       "Name: Fecha, dtype: object"
      ]
     },
     "execution_count": 5,
     "metadata": {},
     "output_type": "execute_result"
    },
    {
     "data": {
      "text/html": [
       "<div>\n",
       "<style scoped>\n",
       "    .dataframe tbody tr th:only-of-type {\n",
       "        vertical-align: middle;\n",
       "    }\n",
       "\n",
       "    .dataframe tbody tr th {\n",
       "        vertical-align: top;\n",
       "    }\n",
       "\n",
       "    .dataframe thead th {\n",
       "        text-align: right;\n",
       "    }\n",
       "</style>\n",
       "<table border=\"1\" class=\"dataframe\">\n",
       "  <thead>\n",
       "    <tr style=\"text-align: right;\">\n",
       "      <th></th>\n",
       "      <th>Fecha</th>\n",
       "      <th>Tipo_llamada</th>\n",
       "      <th>Origen_tipo</th>\n",
       "      <th>Destino_tipo</th>\n",
       "      <th>Origen_n</th>\n",
       "      <th>Destino_n</th>\n",
       "      <th>Destino_nSIP</th>\n",
       "      <th>Estado</th>\n",
       "      <th>Duracion</th>\n",
       "      <th>Cobro</th>\n",
       "      <th>Fin</th>\n",
       "      <th>Trapaso</th>\n",
       "    </tr>\n",
       "  </thead>\n",
       "  <tbody>\n",
       "    <tr>\n",
       "      <th>1109451</th>\n",
       "      <td>2020-05-01 00:00:19</td>\n",
       "      <td>Hacia SAMU</td>\n",
       "      <td>Trunk</td>\n",
       "      <td>SIP</td>\n",
       "      <td>949799508.0</td>\n",
       "      <td>131.0</td>\n",
       "      <td>204.0</td>\n",
       "      <td>Contestada</td>\n",
       "      <td>567</td>\n",
       "      <td>566</td>\n",
       "      <td>2020-05-01 00:09:46</td>\n",
       "      <td>No</td>\n",
       "    </tr>\n",
       "    <tr>\n",
       "      <th>1109452</th>\n",
       "      <td>2020-05-01 00:03:26</td>\n",
       "      <td>Entre SAMU</td>\n",
       "      <td>SIP</td>\n",
       "      <td>SIP</td>\n",
       "      <td>206.0</td>\n",
       "      <td>212.0</td>\n",
       "      <td>212.0</td>\n",
       "      <td>Contestada</td>\n",
       "      <td>112</td>\n",
       "      <td>101</td>\n",
       "      <td>2020-05-01 00:05:18</td>\n",
       "      <td>Si</td>\n",
       "    </tr>\n",
       "    <tr>\n",
       "      <th>1109453</th>\n",
       "      <td>2020-05-01 00:04:41</td>\n",
       "      <td>Hacia SAMU</td>\n",
       "      <td>Trunk</td>\n",
       "      <td>SIP</td>\n",
       "      <td>950740068.0</td>\n",
       "      <td>131.0</td>\n",
       "      <td>200.0</td>\n",
       "      <td>Contestada</td>\n",
       "      <td>444</td>\n",
       "      <td>443</td>\n",
       "      <td>2020-05-01 00:12:05</td>\n",
       "      <td>No</td>\n",
       "    </tr>\n",
       "    <tr>\n",
       "      <th>1109454</th>\n",
       "      <td>2020-05-01 00:08:59</td>\n",
       "      <td>Entre SAMU</td>\n",
       "      <td>SIP</td>\n",
       "      <td>SIP</td>\n",
       "      <td>204.0</td>\n",
       "      <td>205.0</td>\n",
       "      <td>205.0</td>\n",
       "      <td>Contestada</td>\n",
       "      <td>152</td>\n",
       "      <td>119</td>\n",
       "      <td>2020-05-01 00:11:31</td>\n",
       "      <td>Si</td>\n",
       "    </tr>\n",
       "    <tr>\n",
       "      <th>1109455</th>\n",
       "      <td>2020-05-01 00:11:47</td>\n",
       "      <td>Entre SAMU</td>\n",
       "      <td>SIP</td>\n",
       "      <td>SIP</td>\n",
       "      <td>200.0</td>\n",
       "      <td>205.0</td>\n",
       "      <td>205.0</td>\n",
       "      <td>Contestada</td>\n",
       "      <td>140</td>\n",
       "      <td>138</td>\n",
       "      <td>2020-05-01 00:14:07</td>\n",
       "      <td>Si</td>\n",
       "    </tr>\n",
       "  </tbody>\n",
       "</table>\n",
       "</div>"
      ],
      "text/plain": [
       "                      Fecha Tipo_llamada Origen_tipo Destino_tipo  \\\n",
       "1109451 2020-05-01 00:00:19   Hacia SAMU       Trunk          SIP   \n",
       "1109452 2020-05-01 00:03:26   Entre SAMU         SIP          SIP   \n",
       "1109453 2020-05-01 00:04:41   Hacia SAMU       Trunk          SIP   \n",
       "1109454 2020-05-01 00:08:59   Entre SAMU         SIP          SIP   \n",
       "1109455 2020-05-01 00:11:47   Entre SAMU         SIP          SIP   \n",
       "\n",
       "            Origen_n  Destino_n  Destino_nSIP      Estado  Duracion  Cobro  \\\n",
       "1109451  949799508.0      131.0         204.0  Contestada       567    566   \n",
       "1109452        206.0      212.0         212.0  Contestada       112    101   \n",
       "1109453  950740068.0      131.0         200.0  Contestada       444    443   \n",
       "1109454        204.0      205.0         205.0  Contestada       152    119   \n",
       "1109455        200.0      205.0         205.0  Contestada       140    138   \n",
       "\n",
       "                        Fin Trapaso  \n",
       "1109451 2020-05-01 00:09:46      No  \n",
       "1109452 2020-05-01 00:05:18      Si  \n",
       "1109453 2020-05-01 00:12:05      No  \n",
       "1109454 2020-05-01 00:11:31      Si  \n",
       "1109455 2020-05-01 00:14:07      Si  "
      ]
     },
     "execution_count": 5,
     "metadata": {},
     "output_type": "execute_result"
    }
   ],
   "source": [
    "db1 = BD.loc[BD.Fecha > pd.to_datetime('2020-05-01')]\n",
    "db1.Fecha.describe()\n",
    "db1.head()"
   ]
  },
  {
   "cell_type": "markdown",
   "metadata": {},
   "source": [
    "Descripicón de el periodo de estudio"
   ]
  },
  {
   "cell_type": "code",
   "execution_count": 6,
   "metadata": {},
   "outputs": [
    {
     "data": {
      "text/plain": [
       "count    18270.000000\n",
       "mean       112.029885\n",
       "std        368.178792\n",
       "min          0.000000\n",
       "25%         18.000000\n",
       "50%         52.000000\n",
       "75%        150.000000\n",
       "max      23370.000000\n",
       "Name: Duracion, dtype: float64"
      ]
     },
     "execution_count": 6,
     "metadata": {},
     "output_type": "execute_result"
    },
    {
     "data": {
      "text/plain": [
       "array([[<matplotlib.axes._subplots.AxesSubplot object at 0x7fb1983c3240>]],\n",
       "      dtype=object)"
      ]
     },
     "execution_count": 6,
     "metadata": {},
     "output_type": "execute_result"
    },
    {
     "data": {
      "image/png": "[encoded data removed]",
      "text/plain": [
       "<Figure size 432x288 with 1 Axes>"
      ]
     },
     "metadata": {
      "needs_background": "light"
     },
     "output_type": "display_data"
    }
   ],
   "source": [
    "db1.Duracion.describe()\n",
    "db1.hist(column='Duracion', range= (0,500))"
   ]
  },
  {
   "cell_type": "code",
   "execution_count": 7,
   "metadata": {
    "scrolled": true
   },
   "outputs": [
    {
     "data": {
      "text/plain": [
       "Contestada       9386\n",
       "No Válida         211\n",
       "Perdida           166\n",
       "Sin respuesta       0\n",
       "Ocupado             0\n",
       "FAILED              0\n",
       "Name: Estado, dtype: int64"
      ]
     },
     "execution_count": 7,
     "metadata": {},
     "output_type": "execute_result"
    }
   ],
   "source": [
    "db1.loc[db1.Destino_n == 131].Estado.value_counts()"
   ]
  },
  {
   "cell_type": "code",
   "execution_count": 8,
   "metadata": {},
   "outputs": [
    {
     "data": {
      "text/plain": [
       "<matplotlib.axes._subplots.AxesSubplot at 0x7fb19827eda0>"
      ]
     },
     "execution_count": 8,
     "metadata": {},
     "output_type": "execute_result"
    },
    {
     "data": {
      "image/png": "[encoded data removed]",
      "text/plain": [
       "<Figure size 432x288 with 1 Axes>"
      ]
     },
     "metadata": {
      "needs_background": "light"
     },
     "output_type": "display_data"
    }
   ],
   "source": [
    "db1.groupby(db1.Fecha.dt.hour).Fecha.count().plot(kind='bar')"
   ]
  },
  {
   "cell_type": "markdown",
   "metadata": {},
   "source": [
    "# Funciones que me ayudarán a analizar mejor las cosas"
   ]
  },
  {
   "cell_type": "code",
   "execution_count": 9,
   "metadata": {},
   "outputs": [
    {
     "name": "stdout",
     "output_type": "stream",
     "text": [
      "Seteado inicio, NO fin\n",
      "Rango de fecha: Inicio(2020-01-10 00:01:59) y fin(2020-02-08 23:57:34)\n"
     ]
    },
    {
     "data": {
      "text/html": [
       "<div>\n",
       "<style scoped>\n",
       "    .dataframe tbody tr th:only-of-type {\n",
       "        vertical-align: middle;\n",
       "    }\n",
       "\n",
       "    .dataframe tbody tr th {\n",
       "        vertical-align: top;\n",
       "    }\n",
       "\n",
       "    .dataframe thead th {\n",
       "        text-align: right;\n",
       "    }\n",
       "</style>\n",
       "<table border=\"1\" class=\"dataframe\">\n",
       "  <thead>\n",
       "    <tr style=\"text-align: right;\">\n",
       "      <th></th>\n",
       "      <th>Fecha</th>\n",
       "      <th>Tipo_llamada</th>\n",
       "      <th>Origen_tipo</th>\n",
       "      <th>Destino_tipo</th>\n",
       "      <th>Origen_n</th>\n",
       "      <th>Destino_n</th>\n",
       "      <th>Destino_nSIP</th>\n",
       "      <th>Estado</th>\n",
       "      <th>Duracion</th>\n",
       "      <th>Cobro</th>\n",
       "      <th>Fin</th>\n",
       "      <th>Trapaso</th>\n",
       "    </tr>\n",
       "  </thead>\n",
       "  <tbody>\n",
       "    <tr>\n",
       "      <th>1025570</th>\n",
       "      <td>2020-01-10 00:01:59</td>\n",
       "      <td>Hacia SAMU</td>\n",
       "      <td>Trunk</td>\n",
       "      <td>SIP</td>\n",
       "      <td>930348984.0</td>\n",
       "      <td>131.0</td>\n",
       "      <td>202.0</td>\n",
       "      <td>Contestada</td>\n",
       "      <td>17</td>\n",
       "      <td>16</td>\n",
       "      <td>2020-01-10 00:02:16</td>\n",
       "      <td>No</td>\n",
       "    </tr>\n",
       "  </tbody>\n",
       "</table>\n",
       "</div>"
      ],
      "text/plain": [
       "                      Fecha Tipo_llamada Origen_tipo Destino_tipo  \\\n",
       "1025570 2020-01-10 00:01:59   Hacia SAMU       Trunk          SIP   \n",
       "\n",
       "            Origen_n  Destino_n  Destino_nSIP      Estado  Duracion  Cobro  \\\n",
       "1025570  930348984.0      131.0         202.0  Contestada        17     16   \n",
       "\n",
       "                        Fin Trapaso  \n",
       "1025570 2020-01-10 00:02:16      No  "
      ]
     },
     "execution_count": 9,
     "metadata": {},
     "output_type": "execute_result"
    }
   ],
   "source": [
    "def corte_dataset(dataset, inicio= None, fin=None):\n",
    "    inicio = pd.to_datetime(inicio)\n",
    "    fin = pd.to_datetime(fin)\n",
    "    if inicio != None:\n",
    "        if fin !=None:\n",
    "            print('Seteado inicio y fin')\n",
    "            db1 = dataset.loc[\n",
    "                (dataset.Fecha > inicio) &\n",
    "                (dataset.Fecha < fin)]\n",
    "        else:\n",
    "            fin = inicio + timedelta(days=30)\n",
    "            print('Seteado inicio, NO fin')\n",
    "            db1 = dataset.loc[\n",
    "                (dataset.Fecha > inicio) &\n",
    "                (dataset.Fecha < fin)]\n",
    "    else:\n",
    "        print('No hay rango de fecha seteado. Se procede con todo')\n",
    "        db1 = dataset\n",
    "    \n",
    "    \n",
    "    print('Rango de fecha: Inicio({}) y fin({})'.format(\n",
    "        db1.Fecha.describe()['first'],\n",
    "        db1.Fecha.describe()['last'])\n",
    "         )\n",
    "    return db1\n",
    "\n",
    "corte_dataset(BD, '2020.01.10').head(1) # se suma automáticamente un mes si el fin está vacio"
   ]
  },
  {
   "cell_type": "code",
   "execution_count": 10,
   "metadata": {},
   "outputs": [],
   "source": [
    "def tablaCDR_general(dataset, inicio= None, fin=None):\n",
    "    # Selecciono un rango de fechas para la función\n",
    "    db1 = corte_dataset(dataset, inicio, fin)\n",
    "    \n",
    "    # Hago las métricas\n",
    "    descripcion_dum = db1.Fecha.describe()\n",
    "    var = pd.Series([])\n",
    "    var['Primera observacion']  = descripcion_dum[4]\n",
    "    var['Ultima observacion']   = descripcion_dum[5]\n",
    "    var['Duracion en dias']     = (descripcion_dum[5] - descripcion_dum[4]).days\n",
    "    var['Duracion en meses']    = (descripcion_dum[5] - descripcion_dum[4]).days/30\n",
    "    var['Llamadas (n)']         = descripcion_dum[0]\n",
    "    var['Llamadas (n/mes)']     = var['Llamadas (n)']/var['Duracion en meses']\n",
    "    var['Llamadas (n/dia)']     = var['Llamadas (n)']/var['Duracion en dias']\n",
    "    \n",
    "    var['Llamadas Hacia SAMU/mes']         = db1.loc[db1.Tipo_llamada=='Hacia SAMU'].Fecha.count()/var['Duracion en meses']\n",
    "    var['Llamadas Hacia SAMU/dia']         = db1.loc[db1.Tipo_llamada=='Hacia SAMU'].Fecha.count()/var['Duracion en dias']\n",
    "    \n",
    "    var['Duración llamada prom (min)']     = db1.loc[db1.Tipo_llamada=='Hacia SAMU'].Duracion.mean()/60\n",
    "    \n",
    "    var['Llamadas traspasadas/mes']            = db1.loc[db1.Trapaso=='Si'].Fecha.count()/var['Duracion en meses']\n",
    "    var['Llamadas traspasadas/dia']        = db1.loc[db1.Trapaso=='Si'].Fecha.count()/var['Duracion en dias']\n",
    "    \n",
    "    var['Uso horario (%prom)']             = np.mean(          # corresponde al uso de 1 hora de CR\n",
    "        ((db1.groupby(db1.Fecha.dt.hour)).Duracion.sum())/(var['Duracion en dias']*60)/60 *100)\n",
    "\n",
    "    var['Llamadas perdidas/mes']       = db1.loc[db1.Estado=='Perdida'].Fecha.count()/var['Duracion en meses']\n",
    "    var['Llamadas perdidas/dia']       = db1.loc[db1.Estado=='Perdida'].Fecha.count()/var['Duracion en dias']\n",
    "\n",
    "    return var"
   ]
  },
  {
   "cell_type": "code",
   "execution_count": 11,
   "metadata": {},
   "outputs": [
    {
     "name": "stdout",
     "output_type": "stream",
     "text": [
      "2018-01-02 00:00:00\n",
      "Seteado inicio y fin\n",
      "Rango de fecha: Inicio(2018-01-02 00:01:53) y fin(2018-01-31 23:58:01)\n",
      "2018-02-01 00:00:00\n",
      "Seteado inicio y fin\n",
      "Rango de fecha: Inicio(2018-02-01 00:01:24) y fin(2018-03-02 23:57:57)\n",
      "2018-03-03 00:00:00\n",
      "Seteado inicio y fin\n",
      "Rango de fecha: Inicio(2018-03-03 00:00:55) y fin(2018-04-01 23:47:23)\n",
      "2018-04-02 00:00:00\n",
      "Seteado inicio y fin\n",
      "Rango de fecha: Inicio(2018-04-02 00:16:42) y fin(2018-05-01 23:57:57)\n",
      "2018-05-02 00:00:00\n",
      "Seteado inicio y fin\n",
      "Rango de fecha: Inicio(2018-05-02 00:00:17) y fin(2018-05-31 23:59:53)\n"
     ]
    },
    {
     "name": "stderr",
     "output_type": "stream",
     "text": [
      "/home/egidio/.local/lib/python3.7/site-packages/ipykernel_launcher.py:7: DeprecationWarning: The default dtype for empty Series will be 'object' instead of 'float64' in a future version. Specify a dtype explicitly to silence this warning.\n",
      "  import sys\n"
     ]
    },
    {
     "name": "stdout",
     "output_type": "stream",
     "text": [
      "2018-06-01 00:00:00\n",
      "Seteado inicio y fin\n",
      "Rango de fecha: Inicio(2018-06-01 00:02:03) y fin(2018-06-30 23:59:55)\n",
      "2018-07-01 00:00:00\n",
      "Seteado inicio y fin\n",
      "Rango de fecha: Inicio(2018-07-01 00:07:41) y fin(2018-07-30 23:53:13)\n",
      "2018-07-31 00:00:00\n",
      "Seteado inicio y fin\n",
      "Rango de fecha: Inicio(2018-07-31 00:10:17) y fin(2018-08-29 23:59:33)\n",
      "2018-08-30 00:00:00\n",
      "Seteado inicio y fin\n",
      "Rango de fecha: Inicio(2018-08-30 00:03:47) y fin(2018-09-28 23:56:56)\n",
      "2018-09-29 00:00:00\n",
      "Seteado inicio y fin\n",
      "Rango de fecha: Inicio(2018-09-29 00:01:33) y fin(2018-10-28 23:59:29)\n",
      "2018-10-29 00:00:00\n",
      "Seteado inicio y fin\n",
      "Rango de fecha: Inicio(2018-10-29 00:00:29) y fin(2018-11-27 23:59:57)\n",
      "2018-11-28 00:00:00\n",
      "Seteado inicio y fin\n",
      "Rango de fecha: Inicio(2018-11-28 00:00:26) y fin(2018-12-27 23:57:47)\n",
      "2018-12-28 00:00:00\n",
      "Seteado inicio y fin\n",
      "Rango de fecha: Inicio(2018-12-28 00:00:25) y fin(2019-01-26 23:59:41)\n"
     ]
    },
    {
     "data": {
      "text/html": [
       "<div>\n",
       "<style scoped>\n",
       "    .dataframe tbody tr th:only-of-type {\n",
       "        vertical-align: middle;\n",
       "    }\n",
       "\n",
       "    .dataframe tbody tr th {\n",
       "        vertical-align: top;\n",
       "    }\n",
       "\n",
       "    .dataframe thead th {\n",
       "        text-align: right;\n",
       "    }\n",
       "</style>\n",
       "<table border=\"1\" class=\"dataframe\">\n",
       "  <thead>\n",
       "    <tr style=\"text-align: right;\">\n",
       "      <th></th>\n",
       "      <th>Primera observacion</th>\n",
       "      <th>Ultima observacion</th>\n",
       "      <th>Duracion en dias</th>\n",
       "      <th>Duracion en meses</th>\n",
       "      <th>Llamadas (n)</th>\n",
       "      <th>Llamadas (n/mes)</th>\n",
       "      <th>Llamadas (n/dia)</th>\n",
       "      <th>Llamadas Hacia SAMU/mes</th>\n",
       "      <th>Llamadas Hacia SAMU/dia</th>\n",
       "      <th>Duración llamada prom (min)</th>\n",
       "      <th>Llamadas traspasadas/mes</th>\n",
       "      <th>Llamadas traspasadas/dia</th>\n",
       "      <th>Uso horario (%prom)</th>\n",
       "      <th>Llamadas perdidas/mes</th>\n",
       "      <th>Llamadas perdidas/dia</th>\n",
       "    </tr>\n",
       "  </thead>\n",
       "  <tbody>\n",
       "    <tr>\n",
       "      <th>02Jan18</th>\n",
       "      <td>2018-01-02 00:01:53</td>\n",
       "      <td>2018-01-31 23:58:01</td>\n",
       "      <td>29</td>\n",
       "      <td>0.966667</td>\n",
       "      <td>35978</td>\n",
       "      <td>37218.6</td>\n",
       "      <td>1240.62</td>\n",
       "      <td>14301.7</td>\n",
       "      <td>476.724</td>\n",
       "      <td>1.55442</td>\n",
       "      <td>3220.34</td>\n",
       "      <td>107.345</td>\n",
       "      <td>101.742</td>\n",
       "      <td>1171.03</td>\n",
       "      <td>39.0345</td>\n",
       "    </tr>\n",
       "  </tbody>\n",
       "</table>\n",
       "</div>"
      ],
      "text/plain": [
       "        Primera observacion  Ultima observacion Duracion en dias  \\\n",
       "02Jan18 2018-01-02 00:01:53 2018-01-31 23:58:01               29   \n",
       "\n",
       "        Duracion en meses Llamadas (n) Llamadas (n/mes) Llamadas (n/dia)  \\\n",
       "02Jan18          0.966667        35978          37218.6          1240.62   \n",
       "\n",
       "        Llamadas Hacia SAMU/mes Llamadas Hacia SAMU/dia  \\\n",
       "02Jan18                 14301.7                 476.724   \n",
       "\n",
       "        Duración llamada prom (min) Llamadas traspasadas/mes  \\\n",
       "02Jan18                     1.55442                  3220.34   \n",
       "\n",
       "        Llamadas traspasadas/dia Uso horario (%prom) Llamadas perdidas/mes  \\\n",
       "02Jan18                  107.345             101.742               1171.03   \n",
       "\n",
       "        Llamadas perdidas/dia  \n",
       "02Jan18               39.0345  "
      ]
     },
     "execution_count": 11,
     "metadata": {},
     "output_type": "execute_result"
    }
   ],
   "source": [
    "def tabla_indicadores(dataset, start=None, **kwargs):\n",
    "    datelist1 = pd.date_range(start,**kwargs)\n",
    "    dictado = dict()\n",
    "    for x in datelist1:\n",
    "        print(x)\n",
    "        dictado[\n",
    "            str(x.strftime(\"%d%b%y\"))] = tablaCDR_general(dataset, x, fin=(pd.to_datetime(x)+datelist1.freq))\n",
    "    tab = pd.DataFrame(dictado).T\n",
    "    return tab\n",
    "\n",
    "tab = tabla_indicadores(BD ,start='2018-01-02', end = '2019-01-01', freq='30D')\n",
    "tab.head(1)"
   ]
  },
  {
   "cell_type": "code",
   "execution_count": 12,
   "metadata": {},
   "outputs": [
    {
     "data": {
      "image/png": "[encoded data removed]",
      "text/plain": [
       "<Figure size 432x288 with 2 Axes>"
      ]
     },
     "metadata": {
      "needs_background": "light"
     },
     "output_type": "display_data"
    }
   ],
   "source": [
    "def grafo_usoyllamadas(tabla, titulo=None):\n",
    "    fig,ax = plt.subplots()\n",
    "    ax.plot(tabla[['Uso horario (%prom)']], color=\"black\", marker=\"o\")\n",
    "    ax.set_ylim([50,600])\n",
    "    ax.set_xlabel(\"Periodo\",fontsize=14)\n",
    "    ax.title.set_text(titulo)\n",
    "    plt.xticks(rotation='vertical')\n",
    "    ax.set_ylabel(\"Uso del CR en %\",color=\"black\",fontsize=14)\n",
    "\n",
    "    ax2=ax.twinx()\n",
    "    ax2.plot(tabla[['Llamadas (n/mes)']], color=\"#2ca02c\", marker=\"x\")\n",
    "    ax2.set_ylim([24000,39000])\n",
    "    ax2.set_ylabel(\"Cantidad llamadas (n/mes)\",color=\"#2ca02c\",fontsize=14, wrap=True)\n",
    "grafo_usoyllamadas(tab, 'Llamadas')"
   ]
  },
  {
   "cell_type": "code",
   "execution_count": 13,
   "metadata": {},
   "outputs": [
    {
     "data": {
      "image/png": "[encoded data removed]",
      "text/plain": [
       "<Figure size 432x288 with 2 Axes>"
      ]
     },
     "metadata": {
      "needs_background": "light"
     },
     "output_type": "display_data"
    }
   ],
   "source": [
    "def grafo_perdidasyduracion(tabla, titulo=None):\n",
    "    fig,ax = plt.subplots()\n",
    "    tabla['Llamadas perdidas/mes'].plot(kind='bar', color='#1f77b4')\n",
    "    ax.set_ylim([100,1200])\n",
    "    ax.set_xlabel(\"Periodo\",fontsize=14)\n",
    "    ax.title.set_text(titulo)\n",
    "    plt.xticks(rotation='vertical')\n",
    "    ax.set_ylabel(\"Llamadas perdidas/mes\",color=\"#1f77b4\",fontsize=14)\n",
    "\n",
    "    ax2=ax.twinx()\n",
    "    ax2.plot(tabla[['Duración llamada prom (min)']], color=\"r\", marker=\"x\")\n",
    "    ax2.set_ylim([1,2.5])\n",
    "    ax2.set_ylabel(\"Duración llamada prom (min)\",color=\"r\",fontsize=14, wrap=True)\n",
    "grafo_perdidasyduracion(tab, 'Llamadas')"
   ]
  },
  {
   "cell_type": "code",
   "execution_count": 14,
   "metadata": {},
   "outputs": [
    {
     "name": "stdout",
     "output_type": "stream",
     "text": [
      "Seteado inicio y fin\n",
      "Rango de fecha: Inicio(2018-03-01 00:01:24) y fin(2018-11-29 23:59:41)\n",
      "Seteado inicio y fin\n",
      "Rango de fecha: Inicio(2019-03-01 00:03:48) y fin(2019-03-29 23:58:11)\n",
      "Seteado inicio y fin\n",
      "Rango de fecha: Inicio(2019-04-01 00:00:36) y fin(2019-04-29 23:53:18)\n"
     ]
    },
    {
     "name": "stderr",
     "output_type": "stream",
     "text": [
      "/home/egidio/.local/lib/python3.7/site-packages/ipykernel_launcher.py:7: DeprecationWarning: The default dtype for empty Series will be 'object' instead of 'float64' in a future version. Specify a dtype explicitly to silence this warning.\n",
      "  import sys\n"
     ]
    },
    {
     "name": "stdout",
     "output_type": "stream",
     "text": [
      "Seteado inicio y fin\n",
      "Rango de fecha: Inicio(2019-05-01 00:01:49) y fin(2019-05-29 23:58:48)\n",
      "Seteado inicio y fin\n",
      "Rango de fecha: Inicio(2019-09-01 00:05:28) y fin(2019-09-29 23:57:59)\n",
      "Seteado inicio y fin\n",
      "Rango de fecha: Inicio(2020-03-01 00:01:13) y fin(2020-03-14 23:52:36)\n",
      "Seteado inicio y fin\n",
      "Rango de fecha: Inicio(2020-04-01 00:02:13) y fin(2020-04-29 23:58:03)\n",
      "Seteado inicio y fin\n",
      "Rango de fecha: Inicio(2020-05-01 00:00:19) y fin(2020-05-23 23:12:29)\n"
     ]
    },
    {
     "data": {
      "image/png": "[encoded data removed]",
      "text/plain": [
       "<Figure size 432x288 with 2 Axes>"
      ]
     },
     "metadata": {
      "needs_background": "light"
     },
     "output_type": "display_data"
    },
    {
     "data": {
      "image/png": "[encoded data removed]",
      "text/plain": [
       "<Figure size 432x288 with 2 Axes>"
      ]
     },
     "metadata": {
      "needs_background": "light"
     },
     "output_type": "display_data"
    }
   ],
   "source": [
    "tab = pd.DataFrame({'2018'       : tablaCDR_general(BD, '2018.03.01', '2018-11-30'),\n",
    "              'Mar2019'    : tablaCDR_general(BD, '2019.03.01', '2019-03-30'),\n",
    "              'Abr2019'    : tablaCDR_general(BD, '2019.04.01', '2019-04-30'),\n",
    "              'May2019'    : tablaCDR_general(BD, '2019.05.01', '2019-05-30'),\n",
    "              'Nov2019'    : tablaCDR_general(BD, '2019.09.01', '2019-09-30'),\n",
    "              'Mar2020'    : tablaCDR_general(BD, '2020.03.01', '2020-03-15'),\n",
    "              'Abr2020'    : tablaCDR_general(BD, '2020.04.01', '2020-04-30'),\n",
    "              'May2020'    : tablaCDR_general(BD, '2020.05.01', '2020-05-30')\n",
    "             }\n",
    "            ).T\n",
    "grafo_perdidasyduracion(tab)\n",
    "grafo_usoyllamadas(tab)"
   ]
  },
  {
   "cell_type": "code",
   "execution_count": 15,
   "metadata": {},
   "outputs": [],
   "source": [
    "def DLG_cantidad(dataset, inicio=None, fin=None, ax= None, **kwargs):\n",
    "    # Selecciono un rango de fechas para la función\n",
    "    db1 = corte_dataset(dataset, inicio, fin)\n",
    "    \n",
    "    # Métricas #######\n",
    "    metricas = tablaCDR_general(db1) \n",
    "    dum_t1 = metricas['Primera observacion']\n",
    "    dum_t2 = metricas['Ultima observacion']\n",
    "    dum_dt = metricas['Duracion en dias']\n",
    "    \n",
    "    # Gráfico de llamadas por hora ########################################################\n",
    "    ax = ax or plt.gca()  # si hay ax se queda, si no lo hay lo creo\n",
    "    (db1.groupby(db1.Fecha.dt.hour).count().Fecha/dum_dt).plot(\n",
    "        ax = ax,\n",
    "        label=' {} al {}. '.format(dum_t1.strftime('%d-%b-%Y'), dum_t2.strftime('%d-%b-%Y')),\n",
    "        **kwargs)\n",
    "    plt.xlabel('Hora del día')\n",
    "    plt.ylabel('Cantidad de llamadas')\n",
    "    plt.title('Cantidad de llamadas según hora')\n",
    "    plt.ylim([0,90])\n",
    "    plt.grid()\n",
    "    plt.legend(loc='lower right')"
   ]
  },
  {
   "cell_type": "code",
   "execution_count": 16,
   "metadata": {},
   "outputs": [],
   "source": [
    "def DLG_duracion(dataset, inicio=None, fin=None, ax= None, **kwargs):\n",
    "    # Selecciono un rango de fechas para la función\n",
    "    db1 = corte_dataset(dataset, inicio, fin)\n",
    "    \n",
    "    # Métricas #######\n",
    "    metricas = tablaCDR_general(db1) \n",
    "    dum_t1 = metricas['Primera observacion']\n",
    "    dum_t2 = metricas['Ultima observacion']\n",
    "    dum_dt = metricas['Duracion en dias']\n",
    "    \n",
    "    # Gráfico de llamadas por hora ########################################################\n",
    "    ax = ax or plt.gca()  # si hay ax se queda, si no lo hay lo creo\n",
    "    ((db1.groupby(db1.Fecha.dt.hour)).Duracion.sum()/(dum_dt*60)).plot(\n",
    "        ax = ax,\n",
    "        label=' {} al {}. '.format(dum_t1.strftime('%d-%b-%Y'), dum_t2.strftime('%d-%b-%Y')),\n",
    "        **kwargs)\n",
    "    plt.xlabel('Hora del día')\n",
    "    plt.ylabel('Duración acumulada de llamadas en minutos')\n",
    "    plt.title('Duración de llamadas por hora')\n",
    "    plt.ylim([0,140])\n",
    "    plt.grid()\n",
    "    plt.legend(loc='lower right')"
   ]
  },
  {
   "cell_type": "code",
   "execution_count": 17,
   "metadata": {},
   "outputs": [],
   "source": [
    "def bucle_DLG_cantidad(dataset, inicio=None, fin=None, repeticiones=4):\n",
    "    inicio = pd.to_datetime(inicio)\n",
    "    for x in range(repeticiones):\n",
    "        print('Vuelta:', x)\n",
    "        t1     = inicio + timedelta(days=x*7)\n",
    "        t2     = t1 + timedelta(days=7)\n",
    "        DLG_cantidad(dataset, t1, t2)"
   ]
  },
  {
   "cell_type": "code",
   "execution_count": 18,
   "metadata": {},
   "outputs": [],
   "source": [
    "def bucle_DLG_duracion(dataset, inicio=None, fin=None, repeticiones=4):\n",
    "    inicio = pd.to_datetime(inicio)\n",
    "    for x in range(repeticiones):\n",
    "        print('Vuelta:', x)\n",
    "        t1     = inicio + timedelta(days=x*7)\n",
    "        t2     = t1 + timedelta(days=7)\n",
    "        DLG_duracion(dataset, t1, t2)"
   ]
  },
  {
   "cell_type": "code",
   "execution_count": null,
   "metadata": {},
   "outputs": [],
   "source": []
  },
  {
   "cell_type": "code",
   "execution_count": null,
   "metadata": {},
   "outputs": [],
   "source": []
  }
 ],
 "metadata": {
  "celltoolbar": "Raw Cell Format",
  "kernelspec": {
   "display_name": "Python 3",
   "language": "python",
   "name": "python3"
  },
  "language_info": {
   "codemirror_mode": {
    "name": "ipython",
    "version": 3
   },
   "file_extension": ".py",
   "mimetype": "text/x-python",
   "name": "python",
   "nbconvert_exporter": "python",
   "pygments_lexer": "ipython3",
   "version": "3.7.3"
  }
 },
 "nbformat": 4,
 "nbformat_minor": 4
}
